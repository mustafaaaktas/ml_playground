{
 "cells": [
  {
   "cell_type": "markdown",
   "id": "f8b568b8",
   "metadata": {},
   "source": [
    "# Interactive Visualization of the Linear Regression Cost Function\n",
    "\n",
    "## Introduction\n",
    "In linear regression, we fit a line to data points to predict a continuous target value.\n",
    "The quality of our model's fit is measured using a cost function, commonly the Mean Squared Error (MSE).\n",
    "By tuning the parameters (the weight w and the bias b), we aim to minimize this cost, achieving the best-fitting line.\n",
    "### This notebook:\n",
    "- Introduces the concept of the cost function in linear regression.\n",
    "- Explains the relationship between speed and fuel efficiency in a simple dataset.\n",
    "- Provides an interactive visualization to observe how changing the weight w affects both the prediction line and the resulting cost."
   ]
  },
  {
   "cell_type": "markdown",
   "id": "8c8a0d5a",
   "metadata": {},
   "source": [
    "## Understanding the Cost Function\n",
    "\n",
    "For a linear regression model with parameters weight $w$ and bias $b$, and a training dataset $(x^{(i)}, y^{(i)})$ for $i = 1, 2, \\dots, m$:\n",
    "\n",
    "$\n",
    "f_{w,b}(x^{(i)}) = w x^{(i)} + b\n",
    "$\n",
    "\n",
    "The cost function (Mean Squared Error) is defined as:\n",
    "\n",
    "$$\n",
    "J(w, b) = \\frac{1}{2m} \\sum_{i=1}^{m} \\bigl(f_{w,b}(x^{(i)}) - y^{(i)}\\bigr)^2\n",
    "$$\n",
    "\n",
    "- This measures how far off predictions are from the actual values.\n",
    "- It averages the squared errors to return a single number.\n",
    "- By adjusting $w$ and $b$, we want to minimize $J(w, b)$. A lower cost implies a better fit."
   ]
  },
  {
   "cell_type": "markdown",
   "id": "dea8f3f0",
   "metadata": {},
   "source": [
    "### Statistical Connection\n",
    "\n",
    "The cost function is conceptually similar to the variance calculation in statistics, where we measure the spread of data points around a mean. Here, we measure the spread of prediction errors around the actual values. Minimizing the cost reduces the spread of these errors, improving the model's fit."
   ]
  },
  {
   "cell_type": "markdown",
   "id": "feac3dd5",
   "metadata": {},
   "source": [
    "## Dataset\n",
    "\n",
    "In this example, we consider a simple dataset:\n",
    "\n",
    "- **x_train**: Speeds of a car (in km/h).\n",
    "- **y_train**: Fuel efficiency of the car (in km/l).\n",
    "\n",
    "As the car's speed increases, its fuel efficiency typically decreases due to higher aerodynamic drag. We fix the bias (intercept) at $b = 20$, and we will adjust the weight $w$ to see how it affects our model’s predictions and the resulting cost."
   ]
  },
  {
   "cell_type": "markdown",
   "id": "c295dab9",
   "metadata": {},
   "source": [
    "## Setup and Imports\n",
    "\n",
    "First, we import all the necessary libraries and define our dataset."
   ]
  },
  {
   "cell_type": "code",
   "execution_count": 75,
   "id": "4e0a882b",
   "metadata": {},
   "outputs": [],
   "source": [
    "# Core numerical libraries\n",
    "import numpy as np\n",
    "\n",
    "# Plotting and visualization\n",
    "import plotly.graph_objects as go\n",
    "from plotly.subplots import make_subplots\n",
    "\n",
    "# Interactivity\n",
    "from ipywidgets import interact, FloatSlider\n",
    "\n",
    "# Define the dataset\n",
    "x_train = np.array([20, 40, 60, 80, 100])  # Speed (km/h)\n",
    "y_train = np.array([18, 16, 12, 8, 5])     # Efficiency (km/l)"
   ]
  },
  {
   "cell_type": "markdown",
   "id": "7c2b2a1c",
   "metadata": {},
   "source": [
    "## Defining the Cost Function\n",
    "\n",
    "We will define a function `calculate_cost` that returns the MSE-based cost for given parameters `w` and `b`."
   ]
  },
  {
   "cell_type": "code",
   "execution_count": 76,
   "id": "c58fa989",
   "metadata": {},
   "outputs": [],
   "source": [
    "def calculate_cost(x, y, w, b):\n",
    "    \"\"\"\n",
    "    Calculate the Mean Squared Error-based cost for linear regression.\n",
    "    \n",
    "    Parameters:\n",
    "        x (np.array): Feature values (e.g. car speeds)\n",
    "        y (np.array): Target values (e.g. car fuel efficiency)\n",
    "        w (float): Weight (slope) parameter\n",
    "        b (float): Bias (intercept) parameter\n",
    "    \n",
    "    Returns:\n",
    "        float: The calculated cost (average of squared errors).\n",
    "    \"\"\"\n",
    "    m = len(x)\n",
    "    predictions = w * x + b\n",
    "    errors = predictions - y\n",
    "    total_cost = np.sum(errors ** 2) / (2 * m)\n",
    "    return total_cost"
   ]
  },
  {
   "cell_type": "markdown",
   "id": "d7dfd572",
   "metadata": {},
   "source": [
    "## Interactive Visualization\n",
    "\n",
    "We will create an interactive visualization to:\n",
    "- Show the relationship between speed (x-axis) and fuel efficiency (y-axis), along with the predicted line.\n",
    "- Display a cost vs. weight curve, highlighting how changing `w` affects the cost.\n",
    "\n",
    "Use the slider to adjust the weight `w`. The bias `b` is fixed at 20. Notice how the prediction line and cost value change as `w` varies."
   ]
  },
  {
   "cell_type": "code",
   "execution_count": 77,
   "id": "097bf215",
   "metadata": {},
   "outputs": [],
   "source": [
    "def update_plots(w):\n",
    "    # Fixed bias (intercept)\n",
    "    b = 20\n",
    "    \n",
    "    # Compute predictions\n",
    "    y_pred = w * x_train + b\n",
    "    \n",
    "    # Compute current cost\n",
    "    cost = calculate_cost(x_train, y_train, w, b)\n",
    "    \n",
    "    # Generate data for cost vs weight curve\n",
    "    w_values = np.linspace(-0.5, 0.215, 100)\n",
    "    cost_values = [calculate_cost(x_train, y_train, w_val, b) for w_val in w_values]\n",
    "    \n",
    "    # Create subplots: 1 row, 2 columns\n",
    "    fig = make_subplots(rows=1, cols=2, subplot_titles=(\"Car Efficiency vs. Speed\", \"Cost vs. Weight\"))\n",
    "    \n",
    "    # Plot 1: Car Efficiency vs. Speed\n",
    "    fig.add_trace(\n",
    "        go.Scatter(x=x_train, y=y_train, mode='markers', name='Actual Values', marker=dict(color='blue')),\n",
    "        row=1, col=1\n",
    "    )\n",
    "    fig.add_trace(\n",
    "        go.Scatter(x=x_train, y=y_pred, mode='lines', name=f'Prediction (w={w:.2f}, b={b})', line=dict(color='red')),\n",
    "        row=1, col=1\n",
    "    )\n",
    "    \n",
    "    # Plot 2: Cost vs. Weight\n",
    "    fig.add_trace(\n",
    "        go.Scatter(x=w_values, y=cost_values, mode='lines', name='Cost Curve', line=dict(color='teal')),\n",
    "        row=1, col=2\n",
    "    )\n",
    "    fig.add_trace(\n",
    "        go.Scatter(x=[w], y=[cost], mode='markers', name=f'Cost at w={w:.2f}',\n",
    "                   marker=dict(color='red', size=10)),\n",
    "        row=1, col=2\n",
    "    )\n",
    "    \n",
    "    # Add a dynamic annotation showing current cost\n",
    "    fig.add_annotation(\n",
    "        x=w,\n",
    "        y=cost,\n",
    "        text=f\"Cost: {cost:.2f}\",\n",
    "        showarrow=True,\n",
    "        arrowhead=2,\n",
    "        ax=40,\n",
    "        ay=-40,\n",
    "        row=1,\n",
    "        col=2,\n",
    "        font=dict(size=12, color=\"black\"),\n",
    "        arrowcolor=\"red\"\n",
    "    )\n",
    "    \n",
    "    # Update layout and axes\n",
    "    fig.update_layout(\n",
    "        width=900,\n",
    "        height=400,\n",
    "        title_text=\"Interactive Visualization of Cost Function\",\n",
    "    )\n",
    "    fig.update_xaxes(title_text=\"Speed (km/h)\", row=1, col=1)\n",
    "    fig.update_yaxes(title_text=\"Efficiency (km/l)\", row=1, col=1)\n",
    "    fig.update_xaxes(title_text=\"Weight (w)\", row=1, col=2)\n",
    "    fig.update_yaxes(title_text=\"Cost\", row=1, col=2)\n",
    "    \n",
    "    fig.show()"
   ]
  },
  {
   "cell_type": "markdown",
   "id": "b9f21cc0",
   "metadata": {},
   "source": [
    "## Interact with the Weight Parameter\n",
    "\n",
    "Use the slider below to adjust the weight parameter `w`. Notice how the prediction line and cost curve change. The goal in a typical linear regression scenario is to find the `w` that minimizes the cost."
   ]
  },
  {
   "cell_type": "code",
   "execution_count": 79,
   "id": "882af75d",
   "metadata": {},
   "outputs": [
    {
     "data": {
      "application/vnd.jupyter.widget-view+json": {
       "model_id": "54e53503e3f74b9d9f0df5dec176e8ce",
       "version_major": 2,
       "version_minor": 0
      },
      "text/plain": [
       "interactive(children=(FloatSlider(value=-0.3, description='Weight (w):', max=0.22, min=-0.5, step=0.01), Outpu…"
      ]
     },
     "metadata": {},
     "output_type": "display_data"
    },
    {
     "data": {
      "text/plain": [
       "<function __main__.update_plots(w)>"
      ]
     },
     "execution_count": 79,
     "metadata": {},
     "output_type": "execute_result"
    }
   ],
   "source": [
    "interact(update_plots, w=FloatSlider(min=-0.5, max=0.22, step=0.01, value=-0.3, description='Weight (w):'))"
   ]
  },
  {
   "cell_type": "markdown",
   "id": "4adcc69d",
   "metadata": {},
   "source": [
    "## Advanced 3D Visualization of the Cost Function J(w, b)\n",
    "\n",
    "To gain a better understanding of the relationship between the parameters \\( w \\) and \\( b \\) and the cost \\( J(w,b) \\), we will create an interactive 3D surface plot.\n",
    "\n",
    "**Key Points:**\n",
    "\n",
    "- We will plot \\( J(w,b) \\) over a range of values for \\( w \\) and \\( b \\).\n",
    "- The result should show a convex surface (a bowl-shaped curve) demonstrating that there is a unique minimum where the cost is lowest.\n",
    "- Depending on the data ranges and scales, the bowl may appear more like a valley or slope, but it remains convex."
   ]
  },
  {
   "cell_type": "code",
   "execution_count": 81,
   "id": "bb28edb3",
   "metadata": {},
   "outputs": [],
   "source": [
    "# Define the ranges for w and b\n",
    "w_values = np.linspace(-20, 20, 50)\n",
    "b_values = np.linspace(-20, 20, 50)\n",
    "\n",
    "W, B = np.meshgrid(w_values, b_values)\n",
    "\n",
    "# Compute the cost surface for each (w, b) pair\n",
    "Z = np.zeros_like(W)\n",
    "for i in range(len(b_values)):\n",
    "    for j in range(len(w_values)):\n",
    "        Z[i, j] = calculate_cost(x_train, y_train, W[i, j], B[i, j])"
   ]
  },
  {
   "cell_type": "markdown",
   "id": "621b522f",
   "metadata": {},
   "source": [
    "**Explanation:**\n",
    "\n",
    "- We set `w_values` and `b_values` to range from -20 to 20.\n",
    "- Using `np.meshgrid`, we create a grid of (W, B) points.\n",
    "- For each point (W[i,j], B[i,j]), we compute the cost function using `calculate_cost`.\n",
    "- The matrix `Z` stores the cost values corresponding to each (w, b) pair."
   ]
  },
  {
   "cell_type": "code",
   "execution_count": 82,
   "id": "c2422fc8",
   "metadata": {
    "scrolled": false
   },
   "outputs": [
    {
     "data": {
      "text/html": [
       "<iframe\n",
       "    scrolling=\"no\"\n",
       "    width=\"720px\"\n",
       "    height=\"620\"\n",
       "    src=\"iframe_figures/figure_82.html\"\n",
       "    frameborder=\"0\"\n",
       "    allowfullscreen\n",
       "></iframe>\n"
      ]
     },
     "metadata": {},
     "output_type": "display_data"
    }
   ],
   "source": [
    "# Create a 3D interactive surface plot using Plotly\n",
    "fig = go.Figure(data=[go.Surface(\n",
    "    x=W, y=B, z=Z, \n",
    "    colorscale='RdYlGn',\n",
    "    showscale=True,\n",
    "    colorbar=dict(title='Cost')\n",
    ")])\n",
    "\n",
    "fig.update_layout(\n",
    "    title=\"Cost Surface J(w, b) [Rotate and Zoom for Better View]\",\n",
    "    scene=dict(\n",
    "        xaxis_title='W',\n",
    "        yaxis_title='B',\n",
    "        zaxis_title='J(w,b)'\n",
    "    ),\n",
    "    width=700,\n",
    "    height=600\n",
    ")\n",
    "\n",
    "fig.show()"
   ]
  },
  {
   "cell_type": "markdown",
   "id": "77390571",
   "metadata": {},
   "source": [
    "With this 3D visualization, you can see that as we move away from the optimal parameters, the cost rises, forming a convex surface. The global minimum — where the bowl is at its lowest point — corresponds to the best-fitting parameters for our linear model."
   ]
  },
  {
   "cell_type": "markdown",
   "id": "bcb1d716",
   "metadata": {},
   "source": [
    "## Conclusion\n",
    "\n",
    "By adjusting the weight `w` and visualizing the resulting predictions, we gain insight into how changes in parameters affect the cost. The 3D surface plot of $J(w,b)$ reinforces the idea that the cost function is convex, forming a bowl-shaped landscape. The lowest point on this surface corresponds to the parameters that best fit the data.\n",
    "\n",
    "In practice, methods like gradient descent are used to find these parameter values, efficiently navigating the cost surface to arrive at the global minimum. These visualizations help build intuition about the nature of the cost function and guide our understanding of parameter tuning in linear regression."
   ]
  },
  {
   "cell_type": "code",
   "execution_count": null,
   "id": "7cc59af2",
   "metadata": {},
   "outputs": [],
   "source": []
  }
 ],
 "metadata": {
  "kernelspec": {
   "display_name": "Python 3 (ipykernel)",
   "language": "python",
   "name": "python3"
  },
  "language_info": {
   "codemirror_mode": {
    "name": "ipython",
    "version": 3
   },
   "file_extension": ".py",
   "mimetype": "text/x-python",
   "name": "python",
   "nbconvert_exporter": "python",
   "pygments_lexer": "ipython3",
   "version": "3.12.7"
  }
 },
 "nbformat": 4,
 "nbformat_minor": 5
}
